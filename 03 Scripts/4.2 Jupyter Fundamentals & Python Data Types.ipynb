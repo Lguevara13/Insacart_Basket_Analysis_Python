{
 "cells": [
  {
   "cell_type": "code",
   "execution_count": 1,
   "id": "ca4eb02e",
   "metadata": {},
   "outputs": [],
   "source": [
    "# Import libraries\n",
    "import pandas as pd\n",
    "import numpy as np\n",
    "import os"
   ]
  },
  {
   "cell_type": "markdown",
   "id": "de406f5e",
   "metadata": {},
   "source": [
    "# Python data types"
   ]
  },
  {
   "cell_type": "code",
   "execution_count": 2,
   "id": "f2ec7a94",
   "metadata": {
    "scrolled": true
   },
   "outputs": [
    {
     "data": {
      "text/plain": [
       "100"
      ]
     },
     "execution_count": 2,
     "metadata": {},
     "output_type": "execute_result"
    }
   ],
   "source": [
    "50 + 50"
   ]
  },
  {
   "cell_type": "code",
   "execution_count": 10,
   "id": "18e34dc3",
   "metadata": {},
   "outputs": [],
   "source": [
    "x = 1"
   ]
  },
  {
   "cell_type": "code",
   "execution_count": 11,
   "id": "00221ac7",
   "metadata": {},
   "outputs": [
    {
     "name": "stdout",
     "output_type": "stream",
     "text": [
      "1\n"
     ]
    }
   ],
   "source": [
    "print(x)"
   ]
  },
  {
   "cell_type": "code",
   "execution_count": 12,
   "id": "72b1386d",
   "metadata": {},
   "outputs": [
    {
     "data": {
      "text/plain": [
       "100"
      ]
     },
     "execution_count": 12,
     "metadata": {},
     "output_type": "execute_result"
    }
   ],
   "source": [
    "99 + x"
   ]
  },
  {
   "cell_type": "code",
   "execution_count": 13,
   "id": "730b6b55",
   "metadata": {},
   "outputs": [],
   "source": [
    "y = 50"
   ]
  },
  {
   "cell_type": "code",
   "execution_count": 14,
   "id": "0b9d64ca",
   "metadata": {},
   "outputs": [
    {
     "name": "stdout",
     "output_type": "stream",
     "text": [
      "50\n"
     ]
    }
   ],
   "source": [
    "print(y)"
   ]
  },
  {
   "cell_type": "code",
   "execution_count": 15,
   "id": "47237278",
   "metadata": {},
   "outputs": [
    {
     "data": {
      "text/plain": [
       "100"
      ]
     },
     "execution_count": 15,
     "metadata": {},
     "output_type": "execute_result"
    }
   ],
   "source": [
    "150 - y"
   ]
  },
  {
   "cell_type": "code",
   "execution_count": 18,
   "id": "d6d0ec31",
   "metadata": {},
   "outputs": [],
   "source": [
    "a = 13.1978"
   ]
  },
  {
   "cell_type": "code",
   "execution_count": 19,
   "id": "d1c3fba6",
   "metadata": {},
   "outputs": [
    {
     "data": {
      "text/plain": [
       "float"
      ]
     },
     "execution_count": 19,
     "metadata": {},
     "output_type": "execute_result"
    }
   ],
   "source": [
    "type(a)"
   ]
  },
  {
   "cell_type": "code",
   "execution_count": 20,
   "id": "4b0e6c79",
   "metadata": {},
   "outputs": [],
   "source": [
    "b = 8.78"
   ]
  },
  {
   "cell_type": "code",
   "execution_count": 21,
   "id": "262b9c6c",
   "metadata": {},
   "outputs": [
    {
     "data": {
      "text/plain": [
       "float"
      ]
     },
     "execution_count": 21,
     "metadata": {},
     "output_type": "execute_result"
    }
   ],
   "source": [
    "type(b)"
   ]
  },
  {
   "cell_type": "code",
   "execution_count": 22,
   "id": "723617ad",
   "metadata": {},
   "outputs": [
    {
     "data": {
      "text/plain": [
       "1.5031662870159455"
      ]
     },
     "execution_count": 22,
     "metadata": {},
     "output_type": "execute_result"
    }
   ],
   "source": [
    "a / b"
   ]
  },
  {
   "cell_type": "code",
   "execution_count": 23,
   "id": "ad14cb09",
   "metadata": {},
   "outputs": [],
   "source": [
    "c = 'Good '"
   ]
  },
  {
   "cell_type": "code",
   "execution_count": 24,
   "id": "c12bc5fa",
   "metadata": {},
   "outputs": [],
   "source": [
    "d = 'luck'"
   ]
  },
  {
   "cell_type": "code",
   "execution_count": 25,
   "id": "b0dd01c5",
   "metadata": {},
   "outputs": [
    {
     "data": {
      "text/plain": [
       "'Good luck'"
      ]
     },
     "execution_count": 25,
     "metadata": {},
     "output_type": "execute_result"
    }
   ],
   "source": [
    "c + d"
   ]
  },
  {
   "cell_type": "code",
   "execution_count": 35,
   "id": "791a1dcc",
   "metadata": {},
   "outputs": [],
   "source": [
    "e = 'Happy birthday, '"
   ]
  },
  {
   "cell_type": "code",
   "execution_count": 39,
   "id": "3b1624ab",
   "metadata": {},
   "outputs": [],
   "source": [
    "f = 'Norma!'"
   ]
  },
  {
   "cell_type": "code",
   "execution_count": 40,
   "id": "dce00d0f",
   "metadata": {},
   "outputs": [],
   "source": [
    "g = ' Make a wish.'"
   ]
  },
  {
   "cell_type": "code",
   "execution_count": 41,
   "id": "f7809c8c",
   "metadata": {},
   "outputs": [
    {
     "data": {
      "text/plain": [
       "'Happy birthday, Norma! Make a wish.'"
      ]
     },
     "execution_count": 41,
     "metadata": {},
     "output_type": "execute_result"
    }
   ],
   "source": [
    "e + f + g"
   ]
  },
  {
   "cell_type": "code",
   "execution_count": 42,
   "id": "8366f3cd",
   "metadata": {},
   "outputs": [],
   "source": [
    "h = 'super'"
   ]
  },
  {
   "cell_type": "code",
   "execution_count": 43,
   "id": "4673f33c",
   "metadata": {},
   "outputs": [
    {
     "data": {
      "text/plain": [
       "'supersupersupersupersupersupersupersupersupersupersupersupersupersupersupersupersupersupersupersupersupersupersupersupersupersupersupersupersupersupersupersupersupersupersupersupersupersupersupersupersupersupersupersupersupersupersupersupersupersupersupersupersupersupersupersupersupersupersupersupersupersupersupersupersupersupersupersupersupersupersupersupersupersupersupersupersupersupersupersupersupersupersupersupersupersupersupersupersupersupersupersupersupersupersupersupersupersupersupersuper'"
      ]
     },
     "execution_count": 43,
     "metadata": {},
     "output_type": "execute_result"
    }
   ],
   "source": [
    "h * 100"
   ]
  },
  {
   "cell_type": "code",
   "execution_count": null,
   "id": "0199df8e",
   "metadata": {},
   "outputs": [],
   "source": []
  }
 ],
 "metadata": {
  "kernelspec": {
   "display_name": "Python 3 (ipykernel)",
   "language": "python",
   "name": "python3"
  },
  "language_info": {
   "codemirror_mode": {
    "name": "ipython",
    "version": 3
   },
   "file_extension": ".py",
   "mimetype": "text/x-python",
   "name": "python",
   "nbconvert_exporter": "python",
   "pygments_lexer": "ipython3",
   "version": "3.11.4"
  }
 },
 "nbformat": 4,
 "nbformat_minor": 5
}
